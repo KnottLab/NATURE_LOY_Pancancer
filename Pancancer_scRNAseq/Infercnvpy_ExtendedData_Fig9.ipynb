{
 "cells": [
  {
   "cell_type": "code",
   "execution_count": null,
   "id": "ba8d0927",
   "metadata": {},
   "outputs": [],
   "source": [
    "import scanpy as sc\n",
    "import infercnvpy as cnv\n",
    "import matplotlib.pyplot as plt\n",
    "import warnings\n",
    "from matplotlib.pyplot import MultipleLocator\n",
    "import seaborn as sns\n",
    "import matplotlib as mpl\n",
    "import pandas as pd\n",
    "\n",
    "warnings.simplefilter(\"ignore\")\n",
    "\n",
    "sc.settings.set_figure_params(figsize=(5, 5))"
   ]
  },
  {
   "cell_type": "code",
   "execution_count": null,
   "id": "5f66e7e6",
   "metadata": {},
   "outputs": [],
   "source": [
    "MALE= sc.read_h5ad('scRNAseq_pancan_MALE_after_SCVI.h5ad')\n",
    "MALE"
   ]
  },
  {
   "cell_type": "code",
   "execution_count": null,
   "id": "71ad6eb4",
   "metadata": {},
   "outputs": [],
   "source": [
    "LOY_male = MALE[MALE.obs[\"LOY\"] == \"LOY_SCR\"].copy()\n",
    "noLOY_male = MALE[MALE.obs[\"LOY\"] == \"WTY_SCR\"].copy()"
   ]
  },
  {
   "cell_type": "code",
   "execution_count": null,
   "id": "62c21f95",
   "metadata": {},
   "outputs": [],
   "source": [
    "cnv.tl.infercnv(\n",
    "    LOY_male,\n",
    "    reference_key=\"Celltype2\",\n",
    "    reference_cat=['ILC','CD8+_T_cell','Mast_cell','Macrophage','Monocyte','Plasma_cell',\n",
    "                   'CD4+_T_cell','Fibroblast','B_cell','NK_cell','Dendritic_cell',\n",
    "                   'Endothelial_cell','pDC','MAIT'],window_size=250)\n",
    "\n",
    "cnv.tl.infercnv(\n",
    "    noLOY_male,\n",
    "    reference_key=\"Celltype2\",\n",
    "    reference_cat=['ILC','CD8+_T_cell','Mast_cell','Macrophage','Monocyte','Plasma_cell',\n",
    "                   'CD4+_T_cell','Fibroblast','B_cell','NK_cell','Dendritic_cell',\n",
    "                   'Endothelial_cell','pDC','MAIT'],window_size=250,\n",
    ")"
   ]
  },
  {
   "cell_type": "code",
   "execution_count": null,
   "id": "54b5ed7f",
   "metadata": {},
   "outputs": [],
   "source": [
    "cnv.tl.pca(LOY_male)\n",
    "cnv.pp.neighbors(LOY_male)\n",
    "cnv.tl.leiden(LOY_male)\n",
    "cnv.tl.cnv_score(LOY_male)"
   ]
  },
  {
   "cell_type": "code",
   "execution_count": null,
   "id": "6f553aa6",
   "metadata": {},
   "outputs": [],
   "source": [
    "cnv.pl.chromosome_heatmap(LOY_male, groupby=\"Celltype2\", figsize=(8, 12),\n",
    "                          cmap=\"RdBu_r\",vmax=0.2,vmin=-0.2, save=\"LOY_male_inferCNVpy.pdf\")\n",
    "cnv.pl.chromosome_heatmap(noLOY_male, groupby=\"Celltype2\", figsize=(8, 12),\n",
    "                          cmap=\"RdBu_r\",vmax=0.2,vmin=-0.2, save=\"noLOY_male_inferCNVpy.pdf\")"
   ]
  }
 ],
 "metadata": {
  "kernelspec": {
   "display_name": "Python 3 (ipykernel)",
   "language": "python",
   "name": "python3"
  },
  "language_info": {
   "codemirror_mode": {
    "name": "ipython",
    "version": 3
   },
   "file_extension": ".py",
   "mimetype": "text/x-python",
   "name": "python",
   "nbconvert_exporter": "python",
   "pygments_lexer": "ipython3",
   "version": "3.11.5"
  }
 },
 "nbformat": 4,
 "nbformat_minor": 5
}
