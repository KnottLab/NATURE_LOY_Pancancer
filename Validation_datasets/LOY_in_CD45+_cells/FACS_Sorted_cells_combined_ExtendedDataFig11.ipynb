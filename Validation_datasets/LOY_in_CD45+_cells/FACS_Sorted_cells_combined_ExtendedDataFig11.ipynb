{
 "cells": [
  {
   "cell_type": "code",
   "execution_count": 2,
   "id": "af350f35",
   "metadata": {},
   "outputs": [],
   "source": [
    "import scanpy as sc\n",
    "import pandas as pd\n",
    "import numpy as np"
   ]
  },
  {
   "cell_type": "code",
   "execution_count": 3,
   "id": "570566f9",
   "metadata": {},
   "outputs": [],
   "source": [
    "import matplotlib.pyplot as plt\n",
    "from matplotlib.pyplot import MultipleLocator\n",
    "import seaborn as sns\n",
    "import matplotlib as mpl\n",
    "mpl.rcParams['pdf.fonttype'] = 42"
   ]
  },
  {
   "cell_type": "code",
   "execution_count": 2,
   "id": "8b79d74c",
   "metadata": {},
   "outputs": [],
   "source": [
    "files = ['GSE182227/GSE182227_count.h5ad','GSE171899/GSE171899_count.h5ad','GSE211388/GSE211388_counts.h5ad']"
   ]
  },
  {
   "cell_type": "code",
   "execution_count": 4,
   "id": "af422349",
   "metadata": {},
   "outputs": [
    {
     "name": "stdout",
     "output_type": "stream",
     "text": [
      "-------------------------- GSE182227/GSE182227_count.h5ad -----------------------\n",
      "AnnData object with n_obs × n_vars = 70970 × 33701\n",
      "    obs: 'Sample', 'Patient', 'Tissue_type', 'Selection', 'Sex', 'Age', 'DataID', 'Cancertype', 'Treatment', 'Smoking', 'Alcohol', 'Specimen', 'Stage'\n",
      "######################################################\n",
      "AnnData object with n_obs × n_vars = 70970 × 33701\n",
      "    obs: 'Sample', 'Patient', 'Tissue_type', 'Selection', 'Sex', 'Age', 'DataID', 'Cancertype', 'Treatment', 'Smoking', 'Alcohol', 'Specimen', 'Stage'\n",
      "-------------------------- GSE171899/GSE171899_count.h5ad -----------------------\n",
      "AnnData object with n_obs × n_vars = 32661 × 33538\n",
      "    obs: 'Sample', 'Tissue_type', 'Selection', 'Sex', 'DataID', 'Cancertype', 'Patient'\n",
      "    var: 'gene_ids', 'feature_types'\n",
      "######################################################\n",
      "AnnData object with n_obs × n_vars = 103631 × 22164\n",
      "    obs: 'Sample', 'Patient', 'Tissue_type', 'Selection', 'Sex', 'DataID', 'Cancertype'\n",
      "-------------------------- GSE211388/GSE211388_counts.h5ad -----------------------\n",
      "AnnData object with n_obs × n_vars = 42909 × 33538\n",
      "    obs: 'Sample', 'Celltype1', 'Celltype2', 'Tissue_type', 'Selection', 'Sex', 'DataID', 'Cancertype', 'Smoking', 'Specimen', 'Stage', 'Patient'\n",
      "######################################################\n",
      "AnnData object with n_obs × n_vars = 146540 × 22161\n",
      "    obs: 'Sample', 'Patient', 'Tissue_type', 'Selection', 'Sex', 'DataID', 'Cancertype'\n"
     ]
    }
   ],
   "source": [
    "import anndata as ad\n",
    "flag=0\n",
    "for file in files:\n",
    "    adata2 = sc.read_h5ad(file)\n",
    "    print('--------------------------',file,'-----------------------')\n",
    "    print(adata2)\n",
    "    print('######################################################')\n",
    "    if flag == 0:\n",
    "        cadata = adata2\n",
    "        print(cadata)\n",
    "        flag = 1\n",
    "    else:\n",
    "        cadata = [cadata, adata2]\n",
    "        cadata = ad.concat(cadata, merge='same')\n",
    "        print(cadata)"
   ]
  },
  {
   "cell_type": "markdown",
   "id": "a1d6a9a8",
   "metadata": {},
   "source": [
    "# QC"
   ]
  },
  {
   "cell_type": "code",
   "execution_count": 7,
   "id": "a69ab1fd",
   "metadata": {},
   "outputs": [],
   "source": [
    "cadata.layers['Count'] = cadata.X.copy()"
   ]
  },
  {
   "cell_type": "code",
   "execution_count": 8,
   "id": "0e7e68c4",
   "metadata": {},
   "outputs": [],
   "source": [
    "#Quality control\n",
    "cadata.var['mt'] = cadata.var_names.str.startswith('MT-')\n",
    "sc.pp.calculate_qc_metrics(cadata, qc_vars=['mt'], percent_top=None, log1p=False, inplace=True)"
   ]
  },
  {
   "cell_type": "code",
   "execution_count": 10,
   "id": "cb2ae6ae",
   "metadata": {},
   "outputs": [
    {
     "name": "stderr",
     "output_type": "stream",
     "text": [
      "/home/sheny2/anaconda3/envs/multiome_env/lib/python3.9/site-packages/seaborn/_oldcore.py:1119: FutureWarning: use_inf_as_na option is deprecated and will be removed in a future version. Convert inf values to NaN before operating instead.\n",
      "  with pd.option_context('mode.use_inf_as_na', True):\n",
      "/home/sheny2/anaconda3/envs/multiome_env/lib/python3.9/site-packages/seaborn/_oldcore.py:1119: FutureWarning: use_inf_as_na option is deprecated and will be removed in a future version. Convert inf values to NaN before operating instead.\n",
      "  with pd.option_context('mode.use_inf_as_na', True):\n",
      "/home/sheny2/anaconda3/envs/multiome_env/lib/python3.9/site-packages/seaborn/_oldcore.py:1075: FutureWarning: When grouping with a length-1 list-like, you will need to pass a length-1 tuple to get_group in a future version of pandas. Pass `(name,)` instead of `name` to silence this warning.\n",
      "  data_subset = grouped_data.get_group(pd_key)\n",
      "/home/sheny2/anaconda3/envs/multiome_env/lib/python3.9/site-packages/seaborn/_oldcore.py:1119: FutureWarning: use_inf_as_na option is deprecated and will be removed in a future version. Convert inf values to NaN before operating instead.\n",
      "  with pd.option_context('mode.use_inf_as_na', True):\n",
      "/home/sheny2/anaconda3/envs/multiome_env/lib/python3.9/site-packages/seaborn/_oldcore.py:1119: FutureWarning: use_inf_as_na option is deprecated and will be removed in a future version. Convert inf values to NaN before operating instead.\n",
      "  with pd.option_context('mode.use_inf_as_na', True):\n",
      "/home/sheny2/anaconda3/envs/multiome_env/lib/python3.9/site-packages/seaborn/_oldcore.py:1075: FutureWarning: When grouping with a length-1 list-like, you will need to pass a length-1 tuple to get_group in a future version of pandas. Pass `(name,)` instead of `name` to silence this warning.\n",
      "  data_subset = grouped_data.get_group(pd_key)\n",
      "/home/sheny2/anaconda3/envs/multiome_env/lib/python3.9/site-packages/seaborn/_oldcore.py:1119: FutureWarning: use_inf_as_na option is deprecated and will be removed in a future version. Convert inf values to NaN before operating instead.\n",
      "  with pd.option_context('mode.use_inf_as_na', True):\n",
      "/home/sheny2/anaconda3/envs/multiome_env/lib/python3.9/site-packages/seaborn/_oldcore.py:1119: FutureWarning: use_inf_as_na option is deprecated and will be removed in a future version. Convert inf values to NaN before operating instead.\n",
      "  with pd.option_context('mode.use_inf_as_na', True):\n",
      "/home/sheny2/anaconda3/envs/multiome_env/lib/python3.9/site-packages/seaborn/_oldcore.py:1075: FutureWarning: When grouping with a length-1 list-like, you will need to pass a length-1 tuple to get_group in a future version of pandas. Pass `(name,)` instead of `name` to silence this warning.\n",
      "  data_subset = grouped_data.get_group(pd_key)\n"
     ]
    },
    {
     "data": {
      "image/png": "[encoded data removed]",
      "text/plain": [
       "<Figure size 1080x360 with 3 Axes>"
      ]
     },
     "metadata": {
      "needs_background": "light"
     },
     "output_type": "display_data"
    }
   ],
   "source": [
    "sc.pl.violin(cadata, ['n_genes_by_counts', 'total_counts', 'pct_counts_mt'],\n",
    "             jitter=0, multi_panel=True)"
   ]
  },
  {
   "cell_type": "code",
   "execution_count": 11,
   "id": "2f168f21",
   "metadata": {},
   "outputs": [
    {
     "data": {
      "text/plain": [
       "AnnData object with n_obs × n_vars = 144708 × 22161\n",
       "    obs: 'Sample', 'Patient', 'Tissue_type', 'Selection', 'Sex', 'DataID', 'Cancertype', 'n_genes_by_counts', 'total_counts', 'total_counts_mt', 'pct_counts_mt'\n",
       "    var: 'mt', 'n_cells_by_counts', 'mean_counts', 'pct_dropout_by_counts', 'total_counts'\n",
       "    layers: 'Count'"
      ]
     },
     "execution_count": 11,
     "metadata": {},
     "output_type": "execute_result"
    }
   ],
   "source": [
    "cadata = cadata[cadata.obs['pct_counts_mt']<20,:].copy()\n",
    "cadata"
   ]
  },
  {
   "cell_type": "code",
   "execution_count": 16,
   "id": "68d588d7",
   "metadata": {},
   "outputs": [
    {
     "name": "stderr",
     "output_type": "stream",
     "text": [
      "/home/sheny2/anaconda3/envs/multiome_env/lib/python3.9/site-packages/seaborn/_oldcore.py:1119: FutureWarning: use_inf_as_na option is deprecated and will be removed in a future version. Convert inf values to NaN before operating instead.\n",
      "  with pd.option_context('mode.use_inf_as_na', True):\n"
     ]
    },
    {
     "data": {
      "text/plain": [
       "<matplotlib.lines.Line2D at 0x7fdc4e31f5e0>"
      ]
     },
     "execution_count": 16,
     "metadata": {},
     "output_type": "execute_result"
    },
    {
     "data": {
      "image/png": "[encoded data removed]",
      "text/plain": [
       "<Figure size 216x216 with 1 Axes>"
      ]
     },
     "metadata": {
      "needs_background": "light"
     },
     "output_type": "display_data"
    }
   ],
   "source": [
    "fig, ax = plt.subplots(figsize=(3, 3))\n",
    "p3 = sns.histplot(cadata.obs['n_genes_by_counts'], kde=False)\n",
    "plt.axvline(x=400,linestyle='--',color='red')\n",
    "plt.axvline(x=5500,linestyle='--',color='red')"
   ]
  },
  {
   "cell_type": "code",
   "execution_count": 17,
   "id": "462e3e69",
   "metadata": {},
   "outputs": [
    {
     "name": "stderr",
     "output_type": "stream",
     "text": [
      "/home/sheny2/anaconda3/envs/multiome_env/lib/python3.9/site-packages/seaborn/_oldcore.py:1119: FutureWarning: use_inf_as_na option is deprecated and will be removed in a future version. Convert inf values to NaN before operating instead.\n",
      "  with pd.option_context('mode.use_inf_as_na', True):\n"
     ]
    },
    {
     "data": {
      "text/plain": [
       "<matplotlib.lines.Line2D at 0x7fdc89b557f0>"
      ]
     },
     "execution_count": 17,
     "metadata": {},
     "output_type": "execute_result"
    },
    {
     "data": {
      "image/png": "[encoded data removed]",
      "text/plain": [
       "<Figure size 432x216 with 1 Axes>"
      ]
     },
     "metadata": {
      "needs_background": "light"
     },
     "output_type": "display_data"
    }
   ],
   "source": [
    "fig, ax = plt.subplots(figsize=(6, 3))\n",
    "p3 = sns.histplot(cadata.obs['total_counts'], kde=False)\n",
    "plt.axvline(x=500,linestyle='--',color='red')\n",
    "plt.axvline(x=30000,linestyle='--',color='red')"
   ]
  },
  {
   "cell_type": "code",
   "execution_count": 19,
   "id": "112d8040",
   "metadata": {},
   "outputs": [
    {
     "name": "stderr",
     "output_type": "stream",
     "text": [
      "/home/sheny2/anaconda3/envs/multiome_env/lib/python3.9/site-packages/seaborn/_oldcore.py:1119: FutureWarning: use_inf_as_na option is deprecated and will be removed in a future version. Convert inf values to NaN before operating instead.\n",
      "  with pd.option_context('mode.use_inf_as_na', True):\n"
     ]
    },
    {
     "data": {
      "text/plain": [
       "<matplotlib.lines.Line2D at 0x7fdc89a0e640>"
      ]
     },
     "execution_count": 19,
     "metadata": {},
     "output_type": "execute_result"
    },
    {
     "data": {
      "image/png": "[encoded data removed]",
      "text/plain": [
       "<Figure size 216x216 with 1 Axes>"
      ]
     },
     "metadata": {
      "needs_background": "light"
     },
     "output_type": "display_data"
    }
   ],
   "source": [
    "fig, ax = plt.subplots(figsize=(3, 3))\n",
    "p3 = sns.histplot(cadata.obs['total_counts'][cadata.obs['total_counts']<1500], kde=False)\n",
    "plt.axvline(x=500,linestyle='--',color='red')"
   ]
  },
  {
   "cell_type": "code",
   "execution_count": 20,
   "id": "f3f0389b",
   "metadata": {},
   "outputs": [
    {
     "name": "stderr",
     "output_type": "stream",
     "text": [
      "/home/sheny2/anaconda3/envs/multiome_env/lib/python3.9/site-packages/seaborn/_oldcore.py:1119: FutureWarning: use_inf_as_na option is deprecated and will be removed in a future version. Convert inf values to NaN before operating instead.\n",
      "  with pd.option_context('mode.use_inf_as_na', True):\n"
     ]
    },
    {
     "data": {
      "text/plain": [
       "<matplotlib.lines.Line2D at 0x7fdc899edeb0>"
      ]
     },
     "execution_count": 20,
     "metadata": {},
     "output_type": "execute_result"
    },
    {
     "data": {
      "image/png": "[encoded data removed]",
      "text/plain": [
       "<Figure size 216x216 with 1 Axes>"
      ]
     },
     "metadata": {
      "needs_background": "light"
     },
     "output_type": "display_data"
    }
   ],
   "source": [
    "fig, ax = plt.subplots(figsize=(3, 3))\n",
    "p3 = sns.histplot(cadata.obs['total_counts'][(cadata.obs['total_counts']>20000)&(cadata.obs['total_counts']<60000)], kde=False)\n",
    "plt.axvline(x=30000,linestyle='--',color='red')"
   ]
  },
  {
   "cell_type": "code",
   "execution_count": 21,
   "id": "bd7dec3a",
   "metadata": {},
   "outputs": [
    {
     "data": {
      "text/plain": [
       "AnnData object with n_obs × n_vars = 135498 × 22161\n",
       "    obs: 'Sample', 'Patient', 'Tissue_type', 'Selection', 'Sex', 'DataID', 'Cancertype', 'n_genes_by_counts', 'total_counts', 'total_counts_mt', 'pct_counts_mt'\n",
       "    var: 'mt', 'n_cells_by_counts', 'mean_counts', 'pct_dropout_by_counts', 'total_counts'\n",
       "    layers: 'Count'"
      ]
     },
     "execution_count": 21,
     "metadata": {},
     "output_type": "execute_result"
    }
   ],
   "source": [
    "adata2 = cadata[(cadata.obs.n_genes_by_counts > 400)&(cadata.obs.n_genes_by_counts < 5500), :].copy()\n",
    "adata2 = adata2[(adata2.obs.total_counts > 500)&(adata2.obs.total_counts < 30000), :].copy()\n",
    "adata2"
   ]
  },
  {
   "cell_type": "markdown",
   "id": "4e6e79af",
   "metadata": {},
   "source": [
    "# Normalization"
   ]
  },
  {
   "cell_type": "code",
   "execution_count": 23,
   "id": "347fcd52",
   "metadata": {},
   "outputs": [],
   "source": [
    "adata2.obs['DataSampleID'] = adata2.obs['DataID'].astype('str')+'_'+adata2.obs['Sample'].astype('str')\n",
    "#Normalization\n",
    "sc.pp.normalize_total(adata2, target_sum=1e4)\n",
    "sc.pp.log1p(adata2)"
   ]
  },
  {
   "cell_type": "code",
   "execution_count": 24,
   "id": "8ad3a88d",
   "metadata": {},
   "outputs": [],
   "source": [
    "adata2.write_h5ad('Sorted_cells_combined_normalization.h5ad')"
   ]
  },
  {
   "cell_type": "markdown",
   "id": "cfc54612",
   "metadata": {},
   "source": [
    "# LOY_prediction"
   ]
  },
  {
   "cell_type": "code",
   "execution_count": 27,
   "id": "bb39d335",
   "metadata": {},
   "outputs": [
    {
     "data": {
      "text/html": [
       "<style>#sk-container-id-1 {color: black;}#sk-container-id-1 pre{padding: 0;}#sk-container-id-1 div.sk-toggleable {background-color: white;}#sk-container-id-1 label.sk-toggleable__label {cursor: pointer;display: block;width: 100%;margin-bottom: 0;padding: 0.3em;box-sizing: border-box;text-align: center;}#sk-container-id-1 label.sk-toggleable__label-arrow:before {content: \"▸\";float: left;margin-right: 0.25em;color: #696969;}#sk-container-id-1 label.sk-toggleable__label-arrow:hover:before {color: black;}#sk-container-id-1 div.sk-estimator:hover label.sk-toggleable__label-arrow:before {color: black;}#sk-container-id-1 div.sk-toggleable__content {max-height: 0;max-width: 0;overflow: hidden;text-align: left;background-color: #f0f8ff;}#sk-container-id-1 div.sk-toggleable__content pre {margin: 0.2em;color: black;border-radius: 0.25em;background-color: #f0f8ff;}#sk-container-id-1 input.sk-toggleable__control:checked~div.sk-toggleable__content {max-height: 200px;max-width: 100%;overflow: auto;}#sk-container-id-1 input.sk-toggleable__control:checked~label.sk-toggleable__label-arrow:before {content: \"▾\";}#sk-container-id-1 div.sk-estimator input.sk-toggleable__control:checked~label.sk-toggleable__label {background-color: #d4ebff;}#sk-container-id-1 div.sk-label input.sk-toggleable__control:checked~label.sk-toggleable__label {background-color: #d4ebff;}#sk-container-id-1 input.sk-hidden--visually {border: 0;clip: rect(1px 1px 1px 1px);clip: rect(1px, 1px, 1px, 1px);height: 1px;margin: -1px;overflow: hidden;padding: 0;position: absolute;width: 1px;}#sk-container-id-1 div.sk-estimator {font-family: monospace;background-color: #f0f8ff;border: 1px dotted black;border-radius: 0.25em;box-sizing: border-box;margin-bottom: 0.5em;}#sk-container-id-1 div.sk-estimator:hover {background-color: #d4ebff;}#sk-container-id-1 div.sk-parallel-item::after {content: \"\";width: 100%;border-bottom: 1px solid gray;flex-grow: 1;}#sk-container-id-1 div.sk-label:hover label.sk-toggleable__label {background-color: #d4ebff;}#sk-container-id-1 div.sk-serial::before {content: \"\";position: absolute;border-left: 1px solid gray;box-sizing: border-box;top: 0;bottom: 0;left: 50%;z-index: 0;}#sk-container-id-1 div.sk-serial {display: flex;flex-direction: column;align-items: center;background-color: white;padding-right: 0.2em;padding-left: 0.2em;position: relative;}#sk-container-id-1 div.sk-item {position: relative;z-index: 1;}#sk-container-id-1 div.sk-parallel {display: flex;align-items: stretch;justify-content: center;background-color: white;position: relative;}#sk-container-id-1 div.sk-item::before, #sk-container-id-1 div.sk-parallel-item::before {content: \"\";position: absolute;border-left: 1px solid gray;box-sizing: border-box;top: 0;bottom: 0;left: 50%;z-index: -1;}#sk-container-id-1 div.sk-parallel-item {display: flex;flex-direction: column;z-index: 1;position: relative;background-color: white;}#sk-container-id-1 div.sk-parallel-item:first-child::after {align-self: flex-end;width: 50%;}#sk-container-id-1 div.sk-parallel-item:last-child::after {align-self: flex-start;width: 50%;}#sk-container-id-1 div.sk-parallel-item:only-child::after {width: 0;}#sk-container-id-1 div.sk-dashed-wrapped {border: 1px dashed gray;margin: 0 0.4em 0.5em 0.4em;box-sizing: border-box;padding-bottom: 0.4em;background-color: white;}#sk-container-id-1 div.sk-label label {font-family: monospace;font-weight: bold;display: inline-block;line-height: 1.2em;}#sk-container-id-1 div.sk-label-container {text-align: center;}#sk-container-id-1 div.sk-container {/* jupyter's `normalize.less` sets `[hidden] { display: none; }` but bootstrap.min.css set `[hidden] { display: none !important; }` so we also need the `!important` here to be able to override the default hidden behavior on the sphinx rendered scikit-learn.org. See: https://github.com/scikit-learn/scikit-learn/issues/21755 */display: inline-block !important;position: relative;}#sk-container-id-1 div.sk-text-repr-fallback {display: none;}</style><div id=\"sk-container-id-1\" class=\"sk-top-container\"><div class=\"sk-text-repr-fallback\"><pre>RandomForestClassifier(random_state=42)</pre><b>In a Jupyter environment, please rerun this cell to show the HTML representation or trust the notebook. <br />On GitHub, the HTML representation is unable to render, please try loading this page with nbviewer.org.</b></div><div class=\"sk-container\" hidden><div class=\"sk-item\"><div class=\"sk-estimator sk-toggleable\"><input class=\"sk-toggleable__control sk-hidden--visually\" id=\"sk-estimator-id-1\" type=\"checkbox\" checked><label for=\"sk-estimator-id-1\" class=\"sk-toggleable__label sk-toggleable__label-arrow\">RandomForestClassifier</label><div class=\"sk-toggleable__content\"><pre>RandomForestClassifier(random_state=42)</pre></div></div></div></div></div>"
      ],
      "text/plain": [
       "RandomForestClassifier(random_state=42)"
      ]
     },
     "execution_count": 27,
     "metadata": {},
     "output_type": "execute_result"
    }
   ],
   "source": [
    "import joblib\n",
    "rf_classifier_loaded = joblib.load('/9YgenesonlyFinalnew_model.pkl')\n",
    "rf_classifier_loaded"
   ]
  },
  {
   "cell_type": "code",
   "execution_count": 26,
   "id": "46dbfee7",
   "metadata": {},
   "outputs": [
    {
     "data": {
      "text/plain": [
       "set()"
      ]
     },
     "execution_count": 26,
     "metadata": {},
     "output_type": "execute_result"
    }
   ],
   "source": [
    "Ychrgenes = ['DDX3Y', 'UTY', 'KDM5D', 'USP9Y', 'ZFY', 'RPS4Y1', 'TMSB4Y', 'EIF1AY', 'NLGN4Y']\n",
    "set(Ychrgenes).difference(adata2.var_names)"
   ]
  },
  {
   "cell_type": "code",
   "execution_count": 29,
   "id": "13d05420",
   "metadata": {},
   "outputs": [],
   "source": [
    "#Obtain expression matrix\n",
    "X_tumor = adata2[:, Ychrgenes].X.todense()\n",
    "X_tumor = pd.DataFrame(X_tumor, columns=Ychrgenes, index=adata2.obs.index)"
   ]
  },
  {
   "cell_type": "code",
   "execution_count": 34,
   "id": "08bcbf84",
   "metadata": {},
   "outputs": [],
   "source": [
    "#Get results\n",
    "tumor_predictions = rf_classifier_loaded.predict(X_tumor)\n",
    "adata2.obs[\"RL_Prediction_Only9genes\"]=tumor_predictions.copy()\n",
    "adata2.obs[\"RL_Prediction_Only9genes\"].value_counts()\n",
    "adata2.obs['LOY'] = adata2.obs[\"RL_Prediction_Only9genes\"].map({0: 'WTY_SCR', 1: 'LOY_SCR'})\n",
    "#Save\n",
    "adata2.write_h5ad('Sorted_cells_combined_normalization.h5ad')"
   ]
  },
  {
   "cell_type": "markdown",
   "id": "15d83bb1",
   "metadata": {},
   "source": [
    "# LOY% plotting"
   ]
  },
  {
   "cell_type": "code",
   "execution_count": 89,
   "id": "a2c226af",
   "metadata": {},
   "outputs": [],
   "source": [
    "def get_LOY_fraction_plot(adata,ctlevel,title,n,m): \n",
    "    from scipy.stats import chi2_contingency\n",
    "\n",
    "    #get count table\n",
    "    data = pd.DataFrame(index = adata.obs[ctlevel].unique(), \n",
    "                        columns = ['LOY_SCR','WTY_SCR'])\n",
    "    for loy in data.columns:\n",
    "        data[loy]=pd.DataFrame(adata.obs.loc[adata.obs['LOY']==loy,ctlevel].value_counts()).iloc[:,0]     \n",
    "    print(data) \n",
    "    #get fraction table\n",
    "    row_sum = data.sum(axis=1)\n",
    "    data2 = data.div(row_sum,axis='rows')\n",
    "    data2 = data2*100\n",
    "    #sort \n",
    "    data2.sort_values('LOY_SCR',inplace=True)\n",
    "    #plot\n",
    "    fig, ax = plt.subplots(figsize=(n,m))\n",
    "    data2.plot(kind='bar', stacked=True, color=['#c11c1d','#195697'],edgecolor='White',linewidth=1,ax=ax,width=0.9)\n",
    "    labels = ax.set_xticklabels(ax.get_xticklabels(), fontsize=10)\n",
    "    labels = ax.set_yticklabels(ax.get_yticklabels(), fontsize=10)\n",
    "    plt.legend(loc = (1,0.5), fontsize = 7, frameon=False)\n",
    "    plt.title(title,fontweight='bold')\n",
    "    \n",
    "    return data2\n",
    "    "
   ]
  },
  {
   "cell_type": "markdown",
   "id": "25b28c9d",
   "metadata": {},
   "source": [
    "## Samples with CD45+ cells"
   ]
  },
  {
   "cell_type": "code",
   "execution_count": null,
   "id": "7f6efb2f",
   "metadata": {},
   "outputs": [],
   "source": [
    "#ExtendedData Fig9d\n",
    "for dataid in adata2.obs['DataID'].unique():\n",
    "    sub_adata = adata2[(adata2.obs['DataID']==dataid)&(adata2.obs['Sex']=='male')&(adata2.obs['Tissue_type']=='tumor'),:].copy()\n",
    "    data2 = get_LOY_fraction_plot(sub_adata[sub_adata.obs['Selection']=='CD45+ cells',:],\n",
    "                          ctlevel='Sample',title=dataid+' '+sel,n=5,m=3,file=dataid+'_CD45+ cells.pdf')"
   ]
  },
  {
   "cell_type": "markdown",
   "id": "61596632",
   "metadata": {},
   "source": [
    "## Matched samples"
   ]
  },
  {
   "cell_type": "code",
   "execution_count": 35,
   "id": "0a3afddd",
   "metadata": {},
   "outputs": [],
   "source": [
    "matched_samples = ['OP14','OP14CD45P','OP4','OP4CD45P', 'OP9','OP9GEX',\n",
    "                   'humanN_170','humanP_170','humanN_171','humanP_171','humanN_2a','humanP_2b']"
   ]
  },
  {
   "cell_type": "code",
   "execution_count": 37,
   "id": "82bae338",
   "metadata": {},
   "outputs": [
    {
     "name": "stdout",
     "output_type": "stream",
     "text": [
      "            LOY_SCR  WTY_SCR\n",
      "OP14            148     1063\n",
      "OP14CD45P        84     1550\n",
      "OP4              65     2062\n",
      "OP4CD45P         73     2046\n",
      "OP9             269     3679\n",
      "OP9GEX          142     1893\n",
      "humanP_170     1413     2133\n",
      "humanP_171     1149     2707\n",
      "humanP_2b       462     3358\n",
      "humanN_170     1476     2255\n",
      "humanN_171      640     1056\n",
      "humanN_2a        42      189\n"
     ]
    },
    {
     "name": "stderr",
     "output_type": "stream",
     "text": [
      "/tmp/ipykernel_276599/2842369586.py:36: UserWarning: set_ticklabels() should only be used with a fixed number of ticks, i.e. after set_ticks() or using a FixedLocator.\n",
      "  labels = ax.set_yticklabels(ax.get_yticklabels(), fontsize=10)\n"
     ]
    },
    {
     "data": {
      "image/png": "[encoded data removed]",
      "text/plain": [
       "<Figure size 360x216 with 1 Axes>"
      ]
     },
     "metadata": {
      "needs_background": "light"
     },
     "output_type": "display_data"
    }
   ],
   "source": [
    "data2 = get_LOY_fraction_plot(adata2[(adata2.obs['Sample'].isin(matched_samples))&(adata2.obs['Sex']=='male'),:],\n",
    "                      ctlevel='Sample',title='matched_samples',n=5,m=3)"
   ]
  },
  {
   "cell_type": "code",
   "execution_count": 43,
   "id": "a8808bb2",
   "metadata": {},
   "outputs": [],
   "source": [
    "#Copy meta data\n",
    "meta = adata2.obs[['Sample', 'Patient','Tissue_type', 'Selection', 'Sex', 'DataID', 'Cancertype']].drop_duplicates()\n",
    "data2['Patient'] = data2.index.map(dict(zip(meta['Sample'],meta['Patient'])))\n",
    "data2['Selection'] = data2.index.map(dict(zip(meta['Sample'],meta['Selection'])))\n",
    "#Reshape data\n",
    "data = data2.pivot_table(index=['Patient'], columns='Selection', values='LOY_SCR', fill_value=0)\n",
    "data['Patient'] = data.index.copy()"
   ]
  },
  {
   "cell_type": "code",
   "execution_count": 47,
   "id": "050cc153",
   "metadata": {},
   "outputs": [
    {
     "data": {
      "image/png": "[encoded data removed]",
      "text/plain": [
       "<Figure size 216x216 with 1 Axes>"
      ]
     },
     "metadata": {
      "needs_background": "light"
     },
     "output_type": "display_data"
    }
   ],
   "source": [
    "#ExtendedData Fig9e\n",
    "fig, ax = plt.subplots(figsize=(3, 3))\n",
    "p = sns.scatterplot(\n",
    "                x='CD45+ cells',\n",
    "                y=\"CD45- cells\",\n",
    "                s=50,\n",
    "                hue='Patient',\n",
    "                #cmap='RdYlBu_r',\n",
    "                data=data,\n",
    "    )\n",
    "ax.axline((0, 0), slope=1,color='gray')\n",
    "ax.set_title('3 datasets')\n",
    "plt.legend(loc = (1,0.5), fontsize = 7, frameon=False)\n",
    "plt.savefig('Sorted_cells_3datasets_CD45+-_scatter.pdf', dpi=300, bbox_inches='tight')"
   ]
  },
  {
   "cell_type": "code",
   "execution_count": null,
   "id": "b10c4eb8",
   "metadata": {},
   "outputs": [],
   "source": []
  }
 ],
 "metadata": {
  "kernelspec": {
   "display_name": "Python 3 (ipykernel)",
   "language": "python",
   "name": "python3"
  },
  "language_info": {
   "codemirror_mode": {
    "name": "ipython",
    "version": 3
   },
   "file_extension": ".py",
   "mimetype": "text/x-python",
   "name": "python",
   "nbconvert_exporter": "python",
   "pygments_lexer": "ipython3",
   "version": "3.11.5"
  }
 },
 "nbformat": 4,
 "nbformat_minor": 5
}
