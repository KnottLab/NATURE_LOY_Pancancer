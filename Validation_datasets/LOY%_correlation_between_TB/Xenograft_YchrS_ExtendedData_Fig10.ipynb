{
 "cells": [
  {
   "cell_type": "code",
   "execution_count": 2,
   "id": "5e2c61f3",
   "metadata": {},
   "outputs": [],
   "source": [
    "import scanpy as sc\n",
    "import pandas as pd\n",
    "import numpy as np"
   ]
  },
  {
   "cell_type": "code",
   "execution_count": 3,
   "id": "8319d794",
   "metadata": {},
   "outputs": [],
   "source": [
    "import matplotlib.pyplot as plt\n",
    "from matplotlib.pyplot import MultipleLocator\n",
    "import seaborn as sns\n",
    "from matplotlib import colors\n",
    "import matplotlib as mpl\n",
    "mpl.rcParams['pdf.fonttype'] = 42"
   ]
  },
  {
   "cell_type": "markdown",
   "id": "1fc70d42",
   "metadata": {},
   "source": [
    "# Data Combine"
   ]
  },
  {
   "cell_type": "code",
   "execution_count": 3,
   "id": "5e4df0c3",
   "metadata": {},
   "outputs": [
    {
     "data": {
      "text/plain": [
       "AnnData object with n_obs × n_vars = 1573 × 27998\n",
       "    obs: 'Sample', 'n_genes_by_counts', 'total_counts', 'total_counts_mt', 'pct_counts_mt'\n",
       "    var: 'mt', 'n_cells_by_counts', 'mean_counts', 'pct_dropout_by_counts', 'total_counts'"
      ]
     },
     "execution_count": 3,
     "metadata": {},
     "output_type": "execute_result"
    }
   ],
   "source": [
    "GSE144236 = sc.read_h5ad('GSE144236_scRNAseq_count.h5ad')\n",
    "GSE144236 "
   ]
  },
  {
   "cell_type": "code",
   "execution_count": 4,
   "id": "eb216c1f",
   "metadata": {},
   "outputs": [],
   "source": [
    "GSE144236.obs['DataID'] = 'GSE144236'"
   ]
  },
  {
   "cell_type": "code",
   "execution_count": 5,
   "id": "695ea28c",
   "metadata": {},
   "outputs": [
    {
     "data": {
      "text/plain": [
       "AnnData object with n_obs × n_vars = 23972 × 31053\n",
       "    obs: 'Sample', 'Cell', 'Tumor', 'n_genes_by_counts', 'total_counts', 'total_counts_mt', 'pct_counts_mt', 'hgene_sum', 'mgene_sum', 'count_sum', 'hgene_pct'\n",
       "    var: 'gene_ids', 'feature_types', 'mt', 'n_cells_by_counts', 'mean_counts', 'pct_dropout_by_counts', 'total_counts'\n",
       "    layers: 'counts'"
      ]
     },
     "execution_count": 5,
     "metadata": {},
     "output_type": "execute_result"
    }
   ],
   "source": [
    "GSE254890 = sc.read_h5ad('GSE254890/GSE254890_scRNAseq_mouse_cell_2.h5ad')\n",
    "GSE254890"
   ]
  },
  {
   "cell_type": "code",
   "execution_count": 6,
   "id": "a8aea755",
   "metadata": {},
   "outputs": [],
   "source": [
    "GSE254890.obs['DataID'] = 'GSE254890'"
   ]
  },
  {
   "cell_type": "code",
   "execution_count": 7,
   "id": "eac696a6",
   "metadata": {},
   "outputs": [
    {
     "data": {
      "text/plain": [
       "AnnData object with n_obs × n_vars = 19362 × 24491\n",
       "    obs: 'Sample', 'n_genes_by_counts', 'total_counts', 'total_counts_mt', 'pct_counts_mt'\n",
       "    var: 'mt', 'n_cells_by_counts', 'mean_counts', 'pct_dropout_by_counts', 'total_counts'"
      ]
     },
     "execution_count": 7,
     "metadata": {},
     "output_type": "execute_result"
    }
   ],
   "source": [
    "GSE110501 = sc.read_h5ad('GSE110501_scRNAseq_count_3.h5ad')\n",
    "GSE110501"
   ]
  },
  {
   "cell_type": "code",
   "execution_count": 8,
   "id": "47367e63",
   "metadata": {},
   "outputs": [],
   "source": [
    "GSE110501.obs['DataID'] = 'GSE110501'"
   ]
  },
  {
   "cell_type": "code",
   "execution_count": 9,
   "id": "f65b385d",
   "metadata": {},
   "outputs": [
    {
     "data": {
      "text/plain": [
       "AnnData object with n_obs × n_vars = 44907 × 21093\n",
       "    obs: 'Sample', 'n_genes_by_counts', 'total_counts', 'total_counts_mt', 'pct_counts_mt', 'DataID'"
      ]
     },
     "execution_count": 9,
     "metadata": {},
     "output_type": "execute_result"
    }
   ],
   "source": [
    "import anndata as ad\n",
    "adata = ad.concat([GSE144236, GSE254890, GSE110501])\n",
    "adata"
   ]
  },
  {
   "cell_type": "code",
   "execution_count": 12,
   "id": "64460761",
   "metadata": {},
   "outputs": [],
   "source": [
    "adata.layers['Count'] = adata.X.copy()"
   ]
  },
  {
   "cell_type": "code",
   "execution_count": 13,
   "id": "0a6279f9",
   "metadata": {},
   "outputs": [],
   "source": [
    "adata.write_h5ad('Xenograft_combined_counts.h5ad')"
   ]
  },
  {
   "cell_type": "markdown",
   "id": "83e9c6e1",
   "metadata": {},
   "source": [
    "# Quality_control"
   ]
  },
  {
   "cell_type": "code",
   "execution_count": 14,
   "id": "5c79c930",
   "metadata": {},
   "outputs": [],
   "source": [
    "#Quality control\n",
    "adata.var['mt'] = adata.var_names.str.startswith('mt-')  \n",
    "sc.pp.calculate_qc_metrics(adata, qc_vars=['mt'], percent_top=None, log1p=False, inplace=True)"
   ]
  },
  {
   "cell_type": "code",
   "execution_count": 15,
   "id": "99c7e6bb",
   "metadata": {},
   "outputs": [
    {
     "name": "stderr",
     "output_type": "stream",
     "text": [
      "/home/sheny2/anaconda3/envs/multiome_env/lib/python3.9/site-packages/seaborn/_oldcore.py:1498: FutureWarning: is_categorical_dtype is deprecated and will be removed in a future version. Use isinstance(dtype, CategoricalDtype) instead\n",
      "  if pd.api.types.is_categorical_dtype(vector):\n",
      "/home/sheny2/anaconda3/envs/multiome_env/lib/python3.9/site-packages/seaborn/_oldcore.py:1498: FutureWarning: is_categorical_dtype is deprecated and will be removed in a future version. Use isinstance(dtype, CategoricalDtype) instead\n",
      "  if pd.api.types.is_categorical_dtype(vector):\n",
      "/home/sheny2/anaconda3/envs/multiome_env/lib/python3.9/site-packages/seaborn/_oldcore.py:1498: FutureWarning: is_categorical_dtype is deprecated and will be removed in a future version. Use isinstance(dtype, CategoricalDtype) instead\n",
      "  if pd.api.types.is_categorical_dtype(vector):\n",
      "/home/sheny2/anaconda3/envs/multiome_env/lib/python3.9/site-packages/seaborn/_oldcore.py:1498: FutureWarning: is_categorical_dtype is deprecated and will be removed in a future version. Use isinstance(dtype, CategoricalDtype) instead\n",
      "  if pd.api.types.is_categorical_dtype(vector):\n",
      "/home/sheny2/anaconda3/envs/multiome_env/lib/python3.9/site-packages/seaborn/_oldcore.py:1498: FutureWarning: is_categorical_dtype is deprecated and will be removed in a future version. Use isinstance(dtype, CategoricalDtype) instead\n",
      "  if pd.api.types.is_categorical_dtype(vector):\n",
      "/home/sheny2/anaconda3/envs/multiome_env/lib/python3.9/site-packages/seaborn/_oldcore.py:1498: FutureWarning: is_categorical_dtype is deprecated and will be removed in a future version. Use isinstance(dtype, CategoricalDtype) instead\n",
      "  if pd.api.types.is_categorical_dtype(vector):\n",
      "/home/sheny2/anaconda3/envs/multiome_env/lib/python3.9/site-packages/seaborn/_oldcore.py:1498: FutureWarning: is_categorical_dtype is deprecated and will be removed in a future version. Use isinstance(dtype, CategoricalDtype) instead\n",
      "  if pd.api.types.is_categorical_dtype(vector):\n",
      "/home/sheny2/anaconda3/envs/multiome_env/lib/python3.9/site-packages/seaborn/_oldcore.py:1498: FutureWarning: is_categorical_dtype is deprecated and will be removed in a future version. Use isinstance(dtype, CategoricalDtype) instead\n",
      "  if pd.api.types.is_categorical_dtype(vector):\n",
      "/home/sheny2/anaconda3/envs/multiome_env/lib/python3.9/site-packages/seaborn/_oldcore.py:1498: FutureWarning: is_categorical_dtype is deprecated and will be removed in a future version. Use isinstance(dtype, CategoricalDtype) instead\n",
      "  if pd.api.types.is_categorical_dtype(vector):\n",
      "/home/sheny2/anaconda3/envs/multiome_env/lib/python3.9/site-packages/seaborn/_oldcore.py:1119: FutureWarning: use_inf_as_na option is deprecated and will be removed in a future version. Convert inf values to NaN before operating instead.\n",
      "  with pd.option_context('mode.use_inf_as_na', True):\n",
      "/home/sheny2/anaconda3/envs/multiome_env/lib/python3.9/site-packages/seaborn/_oldcore.py:1119: FutureWarning: use_inf_as_na option is deprecated and will be removed in a future version. Convert inf values to NaN before operating instead.\n",
      "  with pd.option_context('mode.use_inf_as_na', True):\n",
      "/home/sheny2/anaconda3/envs/multiome_env/lib/python3.9/site-packages/seaborn/_oldcore.py:1498: FutureWarning: is_categorical_dtype is deprecated and will be removed in a future version. Use isinstance(dtype, CategoricalDtype) instead\n",
      "  if pd.api.types.is_categorical_dtype(vector):\n",
      "/home/sheny2/anaconda3/envs/multiome_env/lib/python3.9/site-packages/seaborn/_oldcore.py:1498: FutureWarning: is_categorical_dtype is deprecated and will be removed in a future version. Use isinstance(dtype, CategoricalDtype) instead\n",
      "  if pd.api.types.is_categorical_dtype(vector):\n",
      "/home/sheny2/anaconda3/envs/multiome_env/lib/python3.9/site-packages/seaborn/_oldcore.py:1498: FutureWarning: is_categorical_dtype is deprecated and will be removed in a future version. Use isinstance(dtype, CategoricalDtype) instead\n",
      "  if pd.api.types.is_categorical_dtype(vector):\n",
      "/home/sheny2/anaconda3/envs/multiome_env/lib/python3.9/site-packages/seaborn/_oldcore.py:1498: FutureWarning: is_categorical_dtype is deprecated and will be removed in a future version. Use isinstance(dtype, CategoricalDtype) instead\n",
      "  if pd.api.types.is_categorical_dtype(vector):\n",
      "/home/sheny2/anaconda3/envs/multiome_env/lib/python3.9/site-packages/seaborn/_oldcore.py:1498: FutureWarning: is_categorical_dtype is deprecated and will be removed in a future version. Use isinstance(dtype, CategoricalDtype) instead\n",
      "  if pd.api.types.is_categorical_dtype(vector):\n",
      "/home/sheny2/anaconda3/envs/multiome_env/lib/python3.9/site-packages/seaborn/_oldcore.py:1119: FutureWarning: use_inf_as_na option is deprecated and will be removed in a future version. Convert inf values to NaN before operating instead.\n",
      "  with pd.option_context('mode.use_inf_as_na', True):\n",
      "/home/sheny2/anaconda3/envs/multiome_env/lib/python3.9/site-packages/seaborn/_oldcore.py:1119: FutureWarning: use_inf_as_na option is deprecated and will be removed in a future version. Convert inf values to NaN before operating instead.\n",
      "  with pd.option_context('mode.use_inf_as_na', True):\n",
      "/home/sheny2/anaconda3/envs/multiome_env/lib/python3.9/site-packages/seaborn/_oldcore.py:1498: FutureWarning: is_categorical_dtype is deprecated and will be removed in a future version. Use isinstance(dtype, CategoricalDtype) instead\n",
      "  if pd.api.types.is_categorical_dtype(vector):\n",
      "/home/sheny2/anaconda3/envs/multiome_env/lib/python3.9/site-packages/seaborn/_oldcore.py:1498: FutureWarning: is_categorical_dtype is deprecated and will be removed in a future version. Use isinstance(dtype, CategoricalDtype) instead\n",
      "  if pd.api.types.is_categorical_dtype(vector):\n",
      "/home/sheny2/anaconda3/envs/multiome_env/lib/python3.9/site-packages/seaborn/_oldcore.py:1498: FutureWarning: is_categorical_dtype is deprecated and will be removed in a future version. Use isinstance(dtype, CategoricalDtype) instead\n",
      "  if pd.api.types.is_categorical_dtype(vector):\n",
      "/home/sheny2/anaconda3/envs/multiome_env/lib/python3.9/site-packages/seaborn/_oldcore.py:1498: FutureWarning: is_categorical_dtype is deprecated and will be removed in a future version. Use isinstance(dtype, CategoricalDtype) instead\n",
      "  if pd.api.types.is_categorical_dtype(vector):\n",
      "/home/sheny2/anaconda3/envs/multiome_env/lib/python3.9/site-packages/seaborn/_oldcore.py:1498: FutureWarning: is_categorical_dtype is deprecated and will be removed in a future version. Use isinstance(dtype, CategoricalDtype) instead\n",
      "  if pd.api.types.is_categorical_dtype(vector):\n",
      "/home/sheny2/anaconda3/envs/multiome_env/lib/python3.9/site-packages/seaborn/_oldcore.py:1119: FutureWarning: use_inf_as_na option is deprecated and will be removed in a future version. Convert inf values to NaN before operating instead.\n",
      "  with pd.option_context('mode.use_inf_as_na', True):\n",
      "/home/sheny2/anaconda3/envs/multiome_env/lib/python3.9/site-packages/seaborn/_oldcore.py:1119: FutureWarning: use_inf_as_na option is deprecated and will be removed in a future version. Convert inf values to NaN before operating instead.\n",
      "  with pd.option_context('mode.use_inf_as_na', True):\n"
     ]
    },
    {
     "data": {
      "image/png": "[encoded data removed]",
      "text/plain": [
       "<Figure size 1080x360 with 3 Axes>"
      ]
     },
     "metadata": {
      "needs_background": "light"
     },
     "output_type": "display_data"
    }
   ],
   "source": [
    "sc.pl.violin(adata, ['n_genes_by_counts', 'total_counts', 'pct_counts_mt'],\n",
    "             jitter=0.4, multi_panel=True)"
   ]
  },
  {
   "cell_type": "code",
   "execution_count": 16,
   "id": "f5b5c426",
   "metadata": {},
   "outputs": [
    {
     "name": "stderr",
     "output_type": "stream",
     "text": [
      "/home/sheny2/anaconda3/envs/multiome_env/lib/python3.9/site-packages/seaborn/_oldcore.py:1498: FutureWarning: is_categorical_dtype is deprecated and will be removed in a future version. Use isinstance(dtype, CategoricalDtype) instead\n",
      "  if pd.api.types.is_categorical_dtype(vector):\n",
      "/home/sheny2/anaconda3/envs/multiome_env/lib/python3.9/site-packages/seaborn/_oldcore.py:1119: FutureWarning: use_inf_as_na option is deprecated and will be removed in a future version. Convert inf values to NaN before operating instead.\n",
      "  with pd.option_context('mode.use_inf_as_na', True):\n"
     ]
    },
    {
     "data": {
      "text/plain": [
       "<matplotlib.lines.Line2D at 0x7f162940a070>"
      ]
     },
     "execution_count": 16,
     "metadata": {},
     "output_type": "execute_result"
    },
    {
     "data": {
      "image/png": "[encoded data removed]",
      "text/plain": [
       "<Figure size 216x216 with 1 Axes>"
      ]
     },
     "metadata": {
      "needs_background": "light"
     },
     "output_type": "display_data"
    }
   ],
   "source": [
    "fig, ax = plt.subplots(figsize=(3, 3))\n",
    "p3 = sns.histplot(adata.obs['n_genes_by_counts'], kde=False)\n",
    "plt.axvline(x=400,linestyle='--',color='red')\n",
    "plt.axvline(x=8000,linestyle='--',color='red')"
   ]
  },
  {
   "cell_type": "code",
   "execution_count": 17,
   "id": "960131ae",
   "metadata": {},
   "outputs": [
    {
     "name": "stderr",
     "output_type": "stream",
     "text": [
      "/home/sheny2/anaconda3/envs/multiome_env/lib/python3.9/site-packages/seaborn/_oldcore.py:1498: FutureWarning: is_categorical_dtype is deprecated and will be removed in a future version. Use isinstance(dtype, CategoricalDtype) instead\n",
      "  if pd.api.types.is_categorical_dtype(vector):\n",
      "/home/sheny2/anaconda3/envs/multiome_env/lib/python3.9/site-packages/seaborn/_oldcore.py:1119: FutureWarning: use_inf_as_na option is deprecated and will be removed in a future version. Convert inf values to NaN before operating instead.\n",
      "  with pd.option_context('mode.use_inf_as_na', True):\n"
     ]
    },
    {
     "data": {
      "text/plain": [
       "<matplotlib.lines.Line2D at 0x7f1628254e20>"
      ]
     },
     "execution_count": 17,
     "metadata": {},
     "output_type": "execute_result"
    },
    {
     "data": {
      "image/png": "[encoded data removed]",
      "text/plain": [
       "<Figure size 216x216 with 1 Axes>"
      ]
     },
     "metadata": {
      "needs_background": "light"
     },
     "output_type": "display_data"
    }
   ],
   "source": [
    "fig, ax = plt.subplots(figsize=(3, 3))\n",
    "p3 = sns.histplot(adata.obs['n_genes_by_counts'][adata.obs['n_genes_by_counts']<400], kde=False)\n",
    "plt.axvline(x=200,linestyle='--',color='red')\n"
   ]
  },
  {
   "cell_type": "code",
   "execution_count": 18,
   "id": "0544dadf",
   "metadata": {},
   "outputs": [
    {
     "name": "stderr",
     "output_type": "stream",
     "text": [
      "/home/sheny2/anaconda3/envs/multiome_env/lib/python3.9/site-packages/seaborn/_oldcore.py:1498: FutureWarning: is_categorical_dtype is deprecated and will be removed in a future version. Use isinstance(dtype, CategoricalDtype) instead\n",
      "  if pd.api.types.is_categorical_dtype(vector):\n",
      "/home/sheny2/anaconda3/envs/multiome_env/lib/python3.9/site-packages/seaborn/_oldcore.py:1119: FutureWarning: use_inf_as_na option is deprecated and will be removed in a future version. Convert inf values to NaN before operating instead.\n",
      "  with pd.option_context('mode.use_inf_as_na', True):\n"
     ]
    },
    {
     "data": {
      "text/plain": [
       "<matplotlib.lines.Line2D at 0x7f162820ab50>"
      ]
     },
     "execution_count": 18,
     "metadata": {},
     "output_type": "execute_result"
    },
    {
     "data": {
      "image/png": "[encoded data removed]",
      "text/plain": [
       "<Figure size 216x216 with 1 Axes>"
      ]
     },
     "metadata": {
      "needs_background": "light"
     },
     "output_type": "display_data"
    }
   ],
   "source": [
    "fig, ax = plt.subplots(figsize=(3, 3))\n",
    "p3 = sns.histplot(adata.obs['total_counts'][(adata.obs['total_counts']>20000)&(adata.obs['total_counts']<60000)], kde=False)\n",
    "plt.axvline(x=30000,linestyle='--',color='red')\n"
   ]
  },
  {
   "cell_type": "code",
   "execution_count": 19,
   "id": "9e6c0d87",
   "metadata": {},
   "outputs": [
    {
     "name": "stderr",
     "output_type": "stream",
     "text": [
      "/home/sheny2/anaconda3/envs/multiome_env/lib/python3.9/site-packages/seaborn/_oldcore.py:1498: FutureWarning: is_categorical_dtype is deprecated and will be removed in a future version. Use isinstance(dtype, CategoricalDtype) instead\n",
      "  if pd.api.types.is_categorical_dtype(vector):\n",
      "/home/sheny2/anaconda3/envs/multiome_env/lib/python3.9/site-packages/seaborn/_oldcore.py:1119: FutureWarning: use_inf_as_na option is deprecated and will be removed in a future version. Convert inf values to NaN before operating instead.\n",
      "  with pd.option_context('mode.use_inf_as_na', True):\n"
     ]
    },
    {
     "data": {
      "text/plain": [
       "<matplotlib.lines.Line2D at 0x7f162810f4c0>"
      ]
     },
     "execution_count": 19,
     "metadata": {},
     "output_type": "execute_result"
    },
    {
     "data": {
      "image/png": "[encoded data removed]",
      "text/plain": [
       "<Figure size 216x216 with 1 Axes>"
      ]
     },
     "metadata": {
      "needs_background": "light"
     },
     "output_type": "display_data"
    }
   ],
   "source": [
    "fig, ax = plt.subplots(figsize=(3, 3))\n",
    "p3 = sns.histplot(adata.obs['total_counts'][adata.obs['total_counts']<800], kde=False)\n",
    "plt.axvline(x=400,linestyle='--',color='red')"
   ]
  },
  {
   "cell_type": "code",
   "execution_count": 20,
   "id": "5ed87a99",
   "metadata": {},
   "outputs": [
    {
     "data": {
      "text/plain": [
       "AnnData object with n_obs × n_vars = 39868 × 21093\n",
       "    obs: 'Sample', 'n_genes_by_counts', 'total_counts', 'total_counts_mt', 'pct_counts_mt', 'DataID'\n",
       "    var: 'mt', 'n_cells_by_counts', 'mean_counts', 'pct_dropout_by_counts', 'total_counts'\n",
       "    layers: 'Count'"
      ]
     },
     "execution_count": 20,
     "metadata": {},
     "output_type": "execute_result"
    }
   ],
   "source": [
    "adata2_m = adata[(adata.obs.n_genes_by_counts > 200)&(adata.obs.n_genes_by_counts < 8500), :].copy()\n",
    "adata2_m = adata2_m[(adata2_m.obs.total_counts > 400)&(adata2_m.obs.total_counts < 30000), :].copy()\n",
    "\n",
    "adata2_m"
   ]
  },
  {
   "cell_type": "markdown",
   "id": "05486f0b",
   "metadata": {},
   "source": [
    "# Normalization"
   ]
  },
  {
   "cell_type": "code",
   "execution_count": 21,
   "id": "58359521",
   "metadata": {},
   "outputs": [],
   "source": [
    "sc.pp.normalize_total(adata2_m, target_sum=1e4)\n",
    "sc.pp.log1p(adata2_m)"
   ]
  },
  {
   "cell_type": "code",
   "execution_count": 23,
   "id": "674bd17c",
   "metadata": {},
   "outputs": [],
   "source": [
    "adata2_m.write_h5ad('Xenograft_combined_normalized.h5ad',compression='gzip')"
   ]
  },
  {
   "cell_type": "markdown",
   "id": "209ec21f",
   "metadata": {},
   "source": [
    "# scVI"
   ]
  },
  {
   "cell_type": "code",
   "execution_count": 40,
   "id": "7c273b36",
   "metadata": {},
   "outputs": [],
   "source": [
    "sc.pp.highly_variable_genes(adata2_m, flavor = 'seurat_v3', n_top_genes=2000, layer = \"Count\", \n",
    "                            subset = False, inplace=True)"
   ]
  },
  {
   "cell_type": "code",
   "execution_count": 41,
   "id": "dcea4eff",
   "metadata": {},
   "outputs": [
    {
     "name": "stderr",
     "output_type": "stream",
     "text": [
      "/home/sheny2/anaconda3/envs/multiome_env/lib/python3.9/site-packages/scvi/_settings.py:63: UserWarning: Since v1.0.0, scvi-tools no longer uses a random seed by default. Run `scvi.settings.seed = 0` to reproduce results from previous versions.\n",
      "  self.seed = seed\n",
      "/home/sheny2/anaconda3/envs/multiome_env/lib/python3.9/site-packages/scvi/_settings.py:70: UserWarning: Setting `dl_pin_memory_gpu_training` is deprecated in v1.0 and will be removed in v1.1. Please pass in `pin_memory` to the data loaders instead.\n",
      "  self.dl_pin_memory_gpu_training = (\n",
      "/home/sheny2/anaconda3/envs/multiome_env/lib/python3.9/abc.py:98: FutureWarning: SparseDataset is deprecated and will be removed in late 2024. It has been replaced by the public classes CSRDataset and CSCDataset.\n",
      "\n",
      "For instance checks, use `isinstance(X, (anndata.experimental.CSRDataset, anndata.experimental.CSCDataset))` instead.\n",
      "\n",
      "For creation, use `anndata.experimental.sparse_dataset(X)` instead.\n",
      "\n",
      "  return _abc_instancecheck(cls, instance)\n",
      "GPU available: False, used: False\n",
      "TPU available: False, using: 0 TPU cores\n",
      "IPU available: False, using: 0 IPUs\n",
      "HPU available: False, using: 0 HPUs\n"
     ]
    },
    {
     "name": "stdout",
     "output_type": "stream",
     "text": [
      "Epoch 1/208:   0%|          | 0/208 [00:00<?, ?it/s]"
     ]
    },
    {
     "name": "stderr",
     "output_type": "stream",
     "text": [
      "/home/sheny2/anaconda3/envs/multiome_env/lib/python3.9/abc.py:98: FutureWarning: SparseDataset is deprecated and will be removed in late 2024. It has been replaced by the public classes CSRDataset and CSCDataset.\n",
      "\n",
      "For instance checks, use `isinstance(X, (anndata.experimental.CSRDataset, anndata.experimental.CSCDataset))` instead.\n",
      "\n",
      "For creation, use `anndata.experimental.sparse_dataset(X)` instead.\n",
      "\n",
      "  return _abc_instancecheck(cls, instance)\n"
     ]
    },
    {
     "name": "stdout",
     "output_type": "stream",
     "text": [
      "Epoch 208/208: 100%|██████████| 208/208 [1:12:09<00:00, 21.08s/it, v_num=1, train_loss_step=7.48e+3, train_loss_epoch=6.8e+3]"
     ]
    },
    {
     "name": "stderr",
     "output_type": "stream",
     "text": [
      "`Trainer.fit` stopped: `max_epochs=208` reached.\n"
     ]
    },
    {
     "name": "stdout",
     "output_type": "stream",
     "text": [
      "Epoch 208/208: 100%|██████████| 208/208 [1:12:09<00:00, 20.82s/it, v_num=1, train_loss_step=7.48e+3, train_loss_epoch=6.8e+3]\n"
     ]
    }
   ],
   "source": [
    "import scvi\n",
    "scvi.model.SCVI.setup_anndata(adata2_m, layer = 'Count', batch_key='Sample')\n",
    "vae = scvi.model.SCVI(adata2_m)\n",
    "vae.train()"
   ]
  },
  {
   "cell_type": "code",
   "execution_count": 42,
   "id": "a8a5b4dd",
   "metadata": {},
   "outputs": [],
   "source": [
    "SCVI_LATENT_KEY = \"X_scVI\"\n",
    "adata2_m.obsm[SCVI_LATENT_KEY] = vae.get_latent_representation(adata2_m)"
   ]
  },
  {
   "cell_type": "code",
   "execution_count": 43,
   "id": "e09ef22a",
   "metadata": {},
   "outputs": [],
   "source": [
    "sc.pp.neighbors(adata2_m, use_rep = SCVI_LATENT_KEY)\n",
    "sc.tl.umap(adata2_m)"
   ]
  },
  {
   "cell_type": "code",
   "execution_count": 45,
   "id": "b6960d1b",
   "metadata": {},
   "outputs": [],
   "source": [
    "adata2_m.write_h5ad('Xenograft_combined_normalized_after_scVI.h5ad',compression='gzip')"
   ]
  },
  {
   "cell_type": "markdown",
   "id": "a836dcc0",
   "metadata": {},
   "source": [
    "# Cell typing by scANVI"
   ]
  },
  {
   "cell_type": "code",
   "execution_count": 49,
   "id": "ff2bc68c",
   "metadata": {},
   "outputs": [],
   "source": [
    "human_mouse = pd.read_table('/common/sheny2/rat_data/human_mouse.txt')\n",
    "human_mouse['Mouse_ID']= human_mouse['Mouse_ID'].astype('str')\n",
    "human_mouse = human_mouse.loc[human_mouse['Mouse_ID']!='nan',:]\n",
    "Map = dict(zip(human_mouse['Mouse_name'],human_mouse['Gene_name']))\n",
    "#Map mouse gene to human gene\n",
    "adata2_m.var['hgene']= adata2_m.var_names.map(Map)\n",
    "adata2_m.var['hgene'] = adata2_m.var['hgene'].astype('str')\n",
    "adata2 = adata2_m[:,adata2_m.var['hgene']!='nan'].copy()\n",
    "\n",
    "adata2.var['mgene'] = adata2.var_names\n",
    "adata2.var_names = adata2.var['hgene']\n",
    "adata2.var_names_make_unique()"
   ]
  },
  {
   "cell_type": "code",
   "execution_count": 57,
   "id": "c7565cf1",
   "metadata": {},
   "outputs": [
    {
     "name": "stderr",
     "output_type": "stream",
     "text": [
      "/home/sheny2/anaconda3/envs/multiome_env/lib/python3.9/site-packages/anndata/_core/anndata.py:1823: FutureWarning: The AnnData.concatenate method is deprecated in favour of the anndata.concat function. Please use anndata.concat instead.\n",
      "\n",
      "See the tutorial for concat at: https://anndata.readthedocs.io/en/latest/concatenation.html\n",
      "  warnings.warn(\n",
      "/home/sheny2/anaconda3/envs/multiome_env/lib/python3.9/site-packages/anndata/_core/merge.py:1348: UserWarning: Only some AnnData objects have `.raw` attribute, not concatenating `.raw` attributes.\n",
      "  warn(\n"
     ]
    }
   ],
   "source": [
    "#Load reference\n",
    "ref_data = sc.read_h5ad('scRNAseq_pancan_ref_2000.h5ad')\n",
    "#Mark batch\n",
    "ref_data.obs['DatasampleID'] = ref_data.obs['Sample_ID_new'].copy()\n",
    "adata2.obs['DatasampleID'] = adata2.obs['Sample'].copy()\n",
    "#Combine\n",
    "adata_all = adata2.concatenate(ref_data)\n",
    "#Mark cell type for scANVI\n",
    "adata_all.obs['Celltype3']=adata_all.obs['Celltype3'].astype('str')\n",
    "adata_all.obs.loc[adata_all.obs['Celltype3']=='nan','Celltype3']='Unknown'"
   ]
  },
  {
   "cell_type": "code",
   "execution_count": 61,
   "id": "577019ca",
   "metadata": {},
   "outputs": [
    {
     "name": "stderr",
     "output_type": "stream",
     "text": [
      "/home/sheny2/anaconda3/envs/multiome_env/lib/python3.9/site-packages/scvi/data/fields/_base_field.py:64: UserWarning: adata.X does not contain unnormalized count data. Are you sure this is what you want?\n",
      "  self.validate_field(adata)\n",
      "GPU available: False, used: False\n",
      "TPU available: False, using: 0 TPU cores\n",
      "IPU available: False, using: 0 IPUs\n",
      "HPU available: False, using: 0 HPUs\n"
     ]
    },
    {
     "name": "stdout",
     "output_type": "stream",
     "text": [
      "Epoch 1/53:   0%|          | 0/53 [00:00<?, ?it/s]"
     ]
    },
    {
     "name": "stderr",
     "output_type": "stream",
     "text": [
      "/home/sheny2/anaconda3/envs/multiome_env/lib/python3.9/site-packages/scvi/module/_vae.py:477: UserWarning: The value argument must be within the support of the distribution\n",
      "  reconst_loss = -generative_outputs[\"px\"].log_prob(x).sum(-1)\n",
      "/home/sheny2/anaconda3/envs/multiome_env/lib/python3.9/site-packages/scvi/module/_vae.py:477: UserWarning: The value argument must be within the support of the distribution\n",
      "  reconst_loss = -generative_outputs[\"px\"].log_prob(x).sum(-1)\n"
     ]
    },
    {
     "name": "stdout",
     "output_type": "stream",
     "text": [
      "Epoch 53/53: 100%|██████████| 53/53 [34:39<00:00, 39.46s/it, v_num=1, train_loss_step=3.82e+3, train_loss_epoch=3.86e+3]"
     ]
    },
    {
     "name": "stderr",
     "output_type": "stream",
     "text": [
      "`Trainer.fit` stopped: `max_epochs=53` reached.\n"
     ]
    },
    {
     "name": "stdout",
     "output_type": "stream",
     "text": [
      "Epoch 53/53: 100%|██████████| 53/53 [34:39<00:00, 39.23s/it, v_num=1, train_loss_step=3.82e+3, train_loss_epoch=3.86e+3]\n"
     ]
    }
   ],
   "source": [
    "scvi.model.SCVI.setup_anndata(adata_all, batch_key='DatasampleID')\n",
    "vae = scvi.model.SCVI(adata_all)\n",
    "vae.train()"
   ]
  },
  {
   "cell_type": "code",
   "execution_count": 62,
   "id": "91a4ad9b",
   "metadata": {},
   "outputs": [
    {
     "name": "stderr",
     "output_type": "stream",
     "text": [
      "/home/sheny2/anaconda3/envs/multiome_env/lib/python3.9/site-packages/scvi/data/fields/_base_field.py:64: UserWarning: adata.X does not contain unnormalized count data. Are you sure this is what you want?\n",
      "  self.validate_field(adata)\n"
     ]
    },
    {
     "name": "stdout",
     "output_type": "stream",
     "text": [
      "\u001b[34mINFO    \u001b[0m Training for \u001b[1;36m20\u001b[0m epochs.                                                                                   \n"
     ]
    },
    {
     "name": "stderr",
     "output_type": "stream",
     "text": [
      "GPU available: False, used: False\n",
      "TPU available: False, using: 0 TPU cores\n",
      "IPU available: False, using: 0 IPUs\n",
      "HPU available: False, using: 0 HPUs\n"
     ]
    },
    {
     "name": "stdout",
     "output_type": "stream",
     "text": [
      "Epoch 1/20:   0%|          | 0/20 [00:00<?, ?it/s]"
     ]
    },
    {
     "name": "stderr",
     "output_type": "stream",
     "text": [
      "/home/sheny2/anaconda3/envs/multiome_env/lib/python3.9/site-packages/scvi/module/_scanvae.py:286: UserWarning: The value argument must be within the support of the distribution\n",
      "  reconst_loss = -px.log_prob(x).sum(-1)\n",
      "/home/sheny2/anaconda3/envs/multiome_env/lib/python3.9/site-packages/scvi/module/_scanvae.py:286: UserWarning: The value argument must be within the support of the distribution\n",
      "  reconst_loss = -px.log_prob(x).sum(-1)\n"
     ]
    },
    {
     "name": "stdout",
     "output_type": "stream",
     "text": [
      "Epoch 2/20:   5%|▌         | 1/20 [01:15<23:59, 75.76s/it, v_num=1, train_loss_step=3.92e+3, train_loss_epoch=4.05e+3]"
     ]
    },
    {
     "name": "stderr",
     "output_type": "stream",
     "text": [
      "/home/sheny2/anaconda3/envs/multiome_env/lib/python3.9/site-packages/scvi/module/_scanvae.py:286: UserWarning: The value argument must be within the support of the distribution\n",
      "  reconst_loss = -px.log_prob(x).sum(-1)\n"
     ]
    },
    {
     "name": "stdout",
     "output_type": "stream",
     "text": [
      "Epoch 20/20: 100%|██████████| 20/20 [22:00<00:00, 66.50s/it, v_num=1, train_loss_step=3.99e+3, train_loss_epoch=4.03e+3]"
     ]
    },
    {
     "name": "stderr",
     "output_type": "stream",
     "text": [
      "`Trainer.fit` stopped: `max_epochs=20` reached.\n"
     ]
    },
    {
     "name": "stdout",
     "output_type": "stream",
     "text": [
      "Epoch 20/20: 100%|██████████| 20/20 [22:00<00:00, 66.02s/it, v_num=1, train_loss_step=3.99e+3, train_loss_epoch=4.03e+3]\n"
     ]
    }
   ],
   "source": [
    "lvae = scvi.model.SCANVI.from_scvi_model(vae, adata = adata_all, unlabeled_category = 'Unknown',\n",
    "                                        labels_key = 'Celltype3')\n",
    "\n",
    "lvae.train(max_epochs=20, n_samples_per_label=100)"
   ]
  },
  {
   "cell_type": "code",
   "execution_count": 64,
   "id": "be54f7fe",
   "metadata": {},
   "outputs": [],
   "source": [
    "adata_all.obs['Celltype3_predicted'] = lvae.predict(adata_all)\n",
    "adata_all.obsm[\"X_scANVI_subcell\"] = lvae.get_latent_representation()"
   ]
  },
  {
   "cell_type": "code",
   "execution_count": 80,
   "id": "a8bd41bc",
   "metadata": {},
   "outputs": [],
   "source": [
    "#Mapping of different level cell type\n",
    "Celltype = pd.read_excel('Three_level_celltype_map.xlsx')\n",
    "#Separate xenograft data\n",
    "adata_noref = adata_all[adata_all.obs['Celltype3']=='Unknown',:].copy()\n",
    "adata_noref.obs_names = [name[0:-2] for name in adata_noref.obs_names]\n",
    "#Copy cell type to the prvious anndata\n",
    "adata2_m.obs['Celltype3'] = adata_noref.obs['Celltype3_predicted'].copy()\n",
    "Map1 = dict(zip(Celltype['Celltype3'],Celltype['Celltype1']))\n",
    "Map2 = dict(zip(Celltype['Celltype3'],Celltype['Celltype2']))\n",
    "adata2_m.obs['Celltype1'] = adata2_m.obs['Celltype3'].map(Map1)\n",
    "adata2_m.obs['Celltype2'] = adata2_m.obs['Celltype3'].map(Map2)"
   ]
  },
  {
   "cell_type": "code",
   "execution_count": 84,
   "id": "9f15dab8",
   "metadata": {},
   "outputs": [],
   "source": [
    "adata2_m.write_h5ad('Xenograft_combined_normalized_after_scVI.h5ad',compression='gzip')"
   ]
  },
  {
   "cell_type": "markdown",
   "id": "3f19e214",
   "metadata": {},
   "source": [
    "# Signature Calculation"
   ]
  },
  {
   "cell_type": "code",
   "execution_count": 4,
   "id": "a84726de",
   "metadata": {},
   "outputs": [
    {
     "data": {
      "text/plain": [
       "AnnData object with n_obs × n_vars = 38418 × 21093\n",
       "    obs: 'Sample', 'n_genes_by_counts', 'total_counts', 'total_counts_mt', 'pct_counts_mt', 'DataID', 'YchrS_mus', 'Sample_type', '_scvi_batch', '_scvi_labels', 'Celltype3', 'Celltype1', 'Celltype2'\n",
       "    var: 'mt', 'n_cells_by_counts', 'mean_counts', 'pct_dropout_by_counts', 'total_counts', 'highly_variable', 'highly_variable_rank', 'means', 'variances', 'variances_norm', 'hgene'\n",
       "    uns: 'Celltype1_colors', 'Celltype2_colors', 'Celltype3_colors', 'DataID_colors', 'Sample_colors', '_scvi_manager_uuid', '_scvi_uuid', 'hvg', 'log1p', 'neighbors', 'umap'\n",
       "    obsm: 'X_scVI', 'X_umap'\n",
       "    layers: 'Count'\n",
       "    obsp: 'connectivities', 'distances'"
      ]
     },
     "execution_count": 4,
     "metadata": {},
     "output_type": "execute_result"
    }
   ],
   "source": [
    "adata2_m = sc.read_h5ad('Xenograft_combined_normalized_after_scVI.h5ad')\n",
    "adata2_m"
   ]
  },
  {
   "cell_type": "code",
   "execution_count": 5,
   "id": "291f338a",
   "metadata": {},
   "outputs": [],
   "source": [
    "gene_info = pd.read_table('Ensembl_GRCm39.txt')\n",
    "gene_info = gene_info.loc[gene_info['Chromosome/scaffold name']=='Y',:].copy()\n",
    "Ychr_genes = gene_info.loc[~gene_info['Gene name'].isna(),'Gene name'].tolist()\n",
    "Ychr_genes = list(set(Ychr_genes).intersection(adata2_m.var_names))\n",
    "sc.tl.score_genes(\n",
    "        adata2_m,\n",
    "        Ychr_genes,\n",
    "        ctrl_size=50,\n",
    "        gene_pool=None,\n",
    "        n_bins=25,\n",
    "        score_name='YchrS_mus',\n",
    "        random_state=0,\n",
    "        copy=False,\n",
    "        use_raw=None\n",
    "    )"
   ]
  },
  {
   "cell_type": "code",
   "execution_count": 14,
   "id": "e733bbdc",
   "metadata": {},
   "outputs": [],
   "source": [
    "#Scale scores\n",
    "from sklearn import preprocessing\n",
    "scaled_scores = pd.DataFrame(preprocessing.scale(adata2_m.obs['YchrS_mus']),\n",
    "                             index = adata2_m.obs_names,columns = ['YchrS_mus'])\n",
    "adata2_m.obs['YchrS_mus_scaled'] = scaled_scores['YchrS_mus'].copy()"
   ]
  },
  {
   "cell_type": "markdown",
   "id": "e6e350da",
   "metadata": {},
   "source": [
    "# Bar plot"
   ]
  },
  {
   "cell_type": "code",
   "execution_count": 7,
   "id": "e5c89659",
   "metadata": {},
   "outputs": [],
   "source": [
    "mapp = {'GSE110501':'WTY_COLO205',\n",
    "'GSE254890':'LOY_SW480',\n",
    "'GSE144236':'Female_mice',\n",
    "'GSE141533':'GSE141533'}\n",
    "adata2_m.obs['Sample_type'] = adata2_m.obs['DataID'].map(mapp)\n",
    "adata2_m.obs['Sample_type'] = adata2_m.obs['Sample_type'].astype('str')\n",
    "adata2_m.obs.loc[adata2_m.obs['Sample'].str.startswith('heart'),'Sample_type']='Male_normal_tissue'"
   ]
  },
  {
   "cell_type": "code",
   "execution_count": 13,
   "id": "02c56c12",
   "metadata": {},
   "outputs": [],
   "source": [
    "celltypemap = {'Epithelial_cell':'Epithelium',\n",
    "               'Fibroblast':'Fibroblast',\n",
    "                'CD4+_T_cell':'Immune_cell', 'CD8+_T_cell':'Immune_cell',\n",
    "               'NK_cell':'Immune_cell','ILC':'Immune_cell', 'MAIT':'Immune_cell',\n",
    "               'B_cell':'Immune_cell','Plasma_cell':'Immune_cell',\n",
    "                'Macrophage':'Myeloid_cell',\n",
    "               'Mast_cell':'Myeloid_cell', 'Dendritic_cell':'Myeloid_cell', \n",
    "               'Monocyte':'Myeloid_cell','pDC':'Myeloid_cell',\n",
    "            \n",
    "               'Endothelial_cel':'Endothelium'}\n",
    "\n",
    "adata2_m.obs['Combined_celltype'] = adata2_m.obs['Celltype2'].map(celltypemap)\n",
    "adata2_m.obs['Combined_celltype'] = adata2_m.obs['Combined_celltype'].astype('str')"
   ]
  },
  {
   "cell_type": "code",
   "execution_count": 18,
   "id": "a654263b",
   "metadata": {},
   "outputs": [],
   "source": [
    "celltypes =['Endothelium','Fibroblast','Myeloid_cell']\n",
    "pale = {\n",
    "    'LOY_SW480':'#ED665D',\n",
    "    'Male_normal_tissue':'#729ECE',\n",
    "    'Female_mice':'#FF9E4A',\n",
    "}\n",
    "Group_order = ['Female_mice','LOY_SW480','Male_normal_tissue']"
   ]
  },
  {
   "cell_type": "code",
   "execution_count": 24,
   "id": "1aec149f",
   "metadata": {},
   "outputs": [
    {
     "data": {
      "image/png": "[encoded data removed]",
      "text/plain": [
       "<Figure size 216x216 with 1 Axes>"
      ]
     },
     "metadata": {
      "needs_background": "light"
     },
     "output_type": "display_data"
    }
   ],
   "source": [
    "#ExtendedData_Fig9f\n",
    "fig, ax = plt.subplots(1,1,figsize=(3,3))#,width_ratios=(60,1))\n",
    "ax.grid(False)\n",
    "sns.barplot(data=adata2_m.obs.loc[adata2_m.obs['Sample_type'].isin(Group_order), :],\n",
    "            x='Combined_celltype', y='YchrS_mus_scaled',hue='Sample_type',\n",
    "            width=0.6,saturation=1,order=celltypes,palette=pale,hue_order=Group_order,\n",
    "            ax=ax)\n",
    "plt.legend(loc = (1,0.5), fontsize = 12, frameon=False)\n",
    "plt.xticks(rotation=90)\n",
    "plt.savefig('ExtendedData_Fig9f_Xenograft_YchrS_mus_barplot.pdf', bbox_inches='tight', dpi=300)"
   ]
  },
  {
   "cell_type": "code",
   "execution_count": null,
   "id": "44d26c92",
   "metadata": {},
   "outputs": [],
   "source": []
  }
 ],
 "metadata": {
  "kernelspec": {
   "display_name": "multiome_env",
   "language": "python",
   "name": "multiome_env"
  },
  "language_info": {
   "codemirror_mode": {
    "name": "ipython",
    "version": 3
   },
   "file_extension": ".py",
   "mimetype": "text/x-python",
   "name": "python",
   "nbconvert_exporter": "python",
   "pygments_lexer": "ipython3",
   "version": "3.9.4"
  }
 },
 "nbformat": 4,
 "nbformat_minor": 5
}
